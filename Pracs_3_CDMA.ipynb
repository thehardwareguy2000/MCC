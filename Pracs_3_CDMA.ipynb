{
 "cells": [
  {
   "cell_type": "code",
   "execution_count": 13,
   "metadata": {},
   "outputs": [
    {
     "name": "stdout",
     "output_type": "stream",
     "text": [
      "enter A data:\n",
      "0\n"
     ]
    }
   ],
   "source": [
    "print('enter A data:')\n",
    "Ad=int(input())\n",
    "if Ad>0:\n",
    "    Bipolar_Ad=+1\n",
    "else:\n",
    "    Bipolar_Ad=-1\n"
   ]
  },
  {
   "cell_type": "code",
   "execution_count": 14,
   "metadata": {},
   "outputs": [
    {
     "name": "stdout",
     "output_type": "stream",
     "text": [
      "enter B data:\n",
      "0\n",
      "enter the number of user : 2\n"
     ]
    }
   ],
   "source": [
    "print('enter B data:')\n",
    "Bd=int(input())\n",
    "if Bd>0:\n",
    "    Bipolar_Bd=+1\n",
    "else:\n",
    "    Bipolar_Bd=-1\n",
    "n= int(input(\"enter the number of user : \"))"
   ]
  },
  {
   "cell_type": "code",
   "execution_count": 15,
   "metadata": {},
   "outputs": [],
   "source": [
    "import random\n",
    "p=[]"
   ]
  },
  {
   "cell_type": "code",
   "execution_count": 16,
   "metadata": {},
   "outputs": [],
   "source": [
    "n= n-1\n",
    "r=range(2**n)\n",
    "h=[[int(bin(x&y),13)%2or-1for x in r]for y in r]\n",
    "\n",
    "\n",
    "\n",
    "for i in h:\n",
    "    multiplied_list = [element * -1 for element in i]\n",
    "    p.append(multiplied_list) "
   ]
  },
  {
   "cell_type": "code",
   "execution_count": 17,
   "metadata": {},
   "outputs": [],
   "source": [
    "sampling = random.sample(p, k=2)\n",
    "A_chip_code=[0 if x== -1 else x for x in sampling[0]] \n",
    "B_chip_code=[0 if x== -1 else x for x in sampling[1]]"
   ]
  },
  {
   "cell_type": "code",
   "execution_count": 18,
   "metadata": {},
   "outputs": [
    {
     "name": "stdout",
     "output_type": "stream",
     "text": [
      "Chip code for A :  [0, 0]\n",
      "Bipolar A :  [-1, -1]\n"
     ]
    }
   ],
   "source": [
    "\n",
    "print(\"Chip code for A : \",A_chip_code)\n",
    "print(\"Bipolar A : \", sampling[0])"
   ]
  },
  {
   "cell_type": "code",
   "execution_count": 19,
   "metadata": {},
   "outputs": [
    {
     "name": "stdout",
     "output_type": "stream",
     "text": [
      "Chip code for B :  [0, 1]\n",
      "Bipolar B :  [-1, 1]\n"
     ]
    }
   ],
   "source": [
    "\n",
    "print(\"Chip code for B : \",B_chip_code)\n",
    "print(\"Bipolar B : \", sampling[1])"
   ]
  },
  {
   "cell_type": "code",
   "execution_count": 20,
   "metadata": {},
   "outputs": [
    {
     "name": "stdout",
     "output_type": "stream",
     "text": [
      "[0, 0]\n"
     ]
    }
   ],
   "source": [
    "As=[x*Bipolar_Ad for x in A_chip_code]\n",
    "print(As)"
   ]
  },
  {
   "cell_type": "code",
   "execution_count": 21,
   "metadata": {},
   "outputs": [
    {
     "name": "stdout",
     "output_type": "stream",
     "text": [
      "[0, -1]\n"
     ]
    }
   ],
   "source": [
    "Bs=[x*Bipolar_Bd for x in B_chip_code]\n",
    "print(Bs)"
   ]
  },
  {
   "cell_type": "code",
   "execution_count": 22,
   "metadata": {},
   "outputs": [
    {
     "name": "stdout",
     "output_type": "stream",
     "text": [
      "[0, -1]\n"
     ]
    }
   ],
   "source": [
    "from operator import add \n",
    "Cs = list(map(add, As, Bs)) \n",
    "print(Cs)"
   ]
  },
  {
   "cell_type": "code",
   "execution_count": 23,
   "metadata": {},
   "outputs": [
    {
     "name": "stdout",
     "output_type": "stream",
     "text": [
      "sum of A :  0\n",
      "Data Transmitted A :  0\n"
     ]
    }
   ],
   "source": [
    "from operator import mul \n",
    "AF= list(map(mul,Cs,A_chip_code))\n",
    "sum_A=sum(AF)\n",
    "print(\"sum of A : \",sum_A)\n",
    "if sum_A > 0:\n",
    "    A_transmitted=1\n",
    "else:\n",
    "    A_transmitted=0\n",
    "print(\"Data Transmitted A : \",A_transmitted)"
   ]
  },
  {
   "cell_type": "code",
   "execution_count": 25,
   "metadata": {},
   "outputs": [
    {
     "name": "stdout",
     "output_type": "stream",
     "text": [
      "sum of B :  -1\n",
      "Data Transmitted B :  0\n"
     ]
    }
   ],
   "source": [
    "from operator import mul \n",
    "BF= list(map(mul,Cs,B_chip_code))\n",
    "sum_B=sum(BF)\n",
    "print(\"sum of B : \",sum_B)\n",
    "if sum_B > 0:\n",
    "    B_transmitted=1\n",
    "else:\n",
    "    B_transmitted=0\n",
    "print(\"Data Transmitted B : \",B_transmitted)"
   ]
  },
  {
   "cell_type": "code",
   "execution_count": null,
   "metadata": {},
   "outputs": [],
   "source": []
  }
 ],
 "metadata": {
  "kernelspec": {
   "display_name": "Python 3",
   "language": "python",
   "name": "python3"
  },
  "language_info": {
   "codemirror_mode": {
    "name": "ipython",
    "version": 3
   },
   "file_extension": ".py",
   "mimetype": "text/x-python",
   "name": "python",
   "nbconvert_exporter": "python",
   "pygments_lexer": "ipython3",
   "version": "3.8.3"
  }
 },
 "nbformat": 4,
 "nbformat_minor": 4
}
