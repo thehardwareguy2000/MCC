{
 "cells": [
  {
   "cell_type": "code",
   "execution_count": 3,
   "metadata": {},
   "outputs": [
    {
     "name": "stdout",
     "output_type": "stream",
     "text": [
      "enter A data:\n",
      "1\n"
     ]
    }
   ],
   "source": [
    "print('enter A data:')\n",
    "Ad=int(input())\n",
    "if Ad>0:\n",
    "    Bipolar_Ad=+1\n",
    "else:\n",
    "    Bipolar_Ad=-1\n"
   ]
  },
  {
   "cell_type": "code",
   "execution_count": 4,
   "metadata": {},
   "outputs": [
    {
     "name": "stdout",
     "output_type": "stream",
     "text": [
      "enter B data:\n",
      "0\n"
     ]
    }
   ],
   "source": [
    "print('enter B data:')\n",
    "Bd=int(input())\n",
    "if Bd>0:\n",
    "    Bipolar_Bd=+1\n",
    "else:\n",
    "    Bipolar_Bd=-1"
   ]
  },
  {
   "cell_type": "code",
   "execution_count": 11,
   "metadata": {},
   "outputs": [
    {
     "name": "stdout",
     "output_type": "stream",
     "text": [
      "0 0 1 1 0 0 1 1\n",
      "<class 'numpy.ndarray'>\n",
      "[-1 -1  1  1 -1 -1  1  1]\n"
     ]
    }
   ],
   "source": [
    "A= [ int(x) for x in input().split()] \n",
    "import numpy as np\n",
    "A_chip_code = np.array(A)\n",
    "print(type(A_chip_code))\n",
    "A_chip_code[np.isclose(A_chip_code, 0)] = -1\n",
    "print(A_chip_code)"
   ]
  },
  {
   "cell_type": "code",
   "execution_count": 13,
   "metadata": {},
   "outputs": [
    {
     "name": "stdout",
     "output_type": "stream",
     "text": [
      "0 1 1 0 0 1 1 0\n",
      "[-1  1  1 -1 -1  1  1 -1]\n"
     ]
    }
   ],
   "source": [
    "B= [ int(x) for x in input().split()] \n",
    "import numpy as np\n",
    "B_chip_code = np.array(B)\n",
    "B_chip_code[np.isclose(B_chip_code, 0)] = -1\n",
    "print(B_chip_code)"
   ]
  },
  {
   "cell_type": "code",
   "execution_count": 14,
   "metadata": {},
   "outputs": [
    {
     "name": "stdout",
     "output_type": "stream",
     "text": [
      "[-1, -1, 1, 1, -1, -1, 1, 1]\n"
     ]
    }
   ],
   "source": [
    "As=[x*Bipolar_Ad for x in A_chip_code]\n",
    "print(As)"
   ]
  },
  {
   "cell_type": "code",
   "execution_count": 15,
   "metadata": {},
   "outputs": [
    {
     "name": "stdout",
     "output_type": "stream",
     "text": [
      "[1, -1, -1, 1, 1, -1, -1, 1]\n"
     ]
    }
   ],
   "source": [
    "Bs=[x*Bipolar_Bd for x in B_chip_code]\n",
    "print(Bs)"
   ]
  },
  {
   "cell_type": "code",
   "execution_count": 17,
   "metadata": {},
   "outputs": [
    {
     "name": "stdout",
     "output_type": "stream",
     "text": [
      "[0, -2, 0, 2, 0, -2, 0, 2]\n"
     ]
    }
   ],
   "source": [
    "from operator import add \n",
    "Cs = list(map(add, As, Bs)) \n",
    "print(Cs)"
   ]
  },
  {
   "cell_type": "code",
   "execution_count": 22,
   "metadata": {},
   "outputs": [
    {
     "name": "stdout",
     "output_type": "stream",
     "text": [
      "[0, 2, 0, 2, 0, 2, 0, 2]\n",
      "8\n",
      "1\n"
     ]
    }
   ],
   "source": [
    "from operator import mul \n",
    "AF= list(map(mul,Cs,A_chip_code))\n",
    "print(AF)\n",
    "sum_A=sum(AF)\n",
    "print(sum_A)\n",
    "if sum_A > 0:\n",
    "    A_transmitted=1\n",
    "else:\n",
    "    A_transmitted=0\n",
    "print(A_transmitted)"
   ]
  },
  {
   "cell_type": "code",
   "execution_count": 24,
   "metadata": {},
   "outputs": [
    {
     "name": "stdout",
     "output_type": "stream",
     "text": [
      "[0, -2, 0, -2, 0, -2, 0, -2]\n",
      "-8\n",
      "0\n"
     ]
    }
   ],
   "source": [
    "from operator import mul \n",
    "BF= list(map(mul,Cs,B_chip_code))\n",
    "print(BF)\n",
    "sum_B=sum(BF)\n",
    "print(sum_B)\n",
    "if sum_B > 0:\n",
    "    B_transmitted=1\n",
    "else:\n",
    "    B_transmitted=0\n",
    "print(B_transmitted)"
   ]
  },
  {
   "cell_type": "code",
   "execution_count": null,
   "metadata": {},
   "outputs": [],
   "source": []
  }
 ],
 "metadata": {
  "kernelspec": {
   "display_name": "Python 3",
   "language": "python",
   "name": "python3"
  },
  "language_info": {
   "codemirror_mode": {
    "name": "ipython",
    "version": 3
   },
   "file_extension": ".py",
   "mimetype": "text/x-python",
   "name": "python",
   "nbconvert_exporter": "python",
   "pygments_lexer": "ipython3",
   "version": "3.8.3"
  }
 },
 "nbformat": 4,
 "nbformat_minor": 4
}
